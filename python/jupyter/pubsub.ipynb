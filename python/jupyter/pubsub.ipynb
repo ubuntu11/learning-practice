{
 "cells": [
  {
   "cell_type": "markdown",
   "id": "6b01b291-dc31-4f32-b2e6-a7391e89a694",
   "metadata": {},
   "source": [
    "* see [Quickstart: Using Client Libraries](https://cloud.google.com/pubsub/docs/quickstart-client-libraries)\n",
    "* Json key file of service account is located in /Users/ken/Develop/smartq-config/rd2/gke-testbed/smartq\n",
    "* export GOOGLE_APPLICATION_CREDENTIALS=/Users/ken/Develop/smartq-config/rd2/gke-testbed/smartq/organic-byway-253306-7cf81f31b25e.json\n",
    "* install client library: `pip install --upgrade google-cloud-pubsub`"
   ]
  },
  {
   "cell_type": "code",
   "execution_count": null,
   "id": "a6883aa4-f059-48f3-ac5f-02986411cbd1",
   "metadata": {},
   "outputs": [],
   "source": [
    "#\n",
    "# Initial Set-Up\n",
    "#\n",
    "\n",
    "project_id = \"organic-byway-253306\"\n",
    "topic_id = \"smartq-20210925-devreq\"\n",
    "subscription_id = \"pub-sub-subscriprion-test\""
   ]
  },
  {
   "cell_type": "code",
   "execution_count": null,
   "id": "3696a239-adb2-47b0-88da-26aee0590558",
   "metadata": {},
   "outputs": [],
   "source": [
    "#\n",
    "# Create subscription programatically\n",
    "#\n",
    "# First time execution get the following error:\n",
    "#  debug_error_string = \"{\"created\":\"@1633143199.813087000\",\n",
    "#                         \"description\":\"Error received from peer ipv4:172.217.27.138:443\",\n",
    "#                         \"file\":\"src/core/lib/surface/call.cc\",\n",
    "#                         \"file_line\":1070,\n",
    "#                         \"grpc_message\":\"User not authorized to perform this action.\",\n",
    "#                         \"grpc_status\":7}\"\n",
    "#\n",
    "# After I add Pub/Sub Editor role to this service account, it suceeds.\n",
    "#\n",
    "\n",
    "from google.cloud import pubsub_v1\n",
    "\n",
    "publisher = pubsub_v1.PublisherClient()\n",
    "subscriber = pubsub_v1.SubscriberClient()\n",
    "topic_path = publisher.topic_path(project_id, topic_id)\n",
    "subscription_path = subscriber.subscription_path(project_id, subscription_id)\n",
    "\n",
    "# Wrap the subscriber in a 'with' block to automatically call close() to\n",
    "# close the underlying gRPC channel when done.\n",
    "with subscriber:\n",
    "    subscription = subscriber.create_subscription(\n",
    "        request={\"name\": subscription_path, \"topic\": topic_path}\n",
    "    )\n",
    "\n",
    "print(f\"Subscription created: {subscription}\")"
   ]
  },
  {
   "cell_type": "code",
   "execution_count": null,
   "id": "6623dfec-0cc1-4408-b358-8ae141629c66",
   "metadata": {
    "tags": []
   },
   "outputs": [],
   "source": [
    "#\n",
    "# publish a message to topic\n",
    "# \"projects/organic-byway-253306/topics/smartq-20210925-devreq\" is a topic \n",
    "# created in production project: organic-byway-253306 \n",
    "#\n",
    "# First time execution get the following error:\n",
    "# debug_error_string = \"{\"created\":\"@1633141307.387916000\",\n",
    "#   \"description\":\"Error received from peer ipv4:172.217.160.74:443\",\n",
    "#   \"file\":\"src/core/lib/surface/call.cc\",\n",
    "#   \"file_line\":1070,\n",
    "#   \"grpc_message\":\"User not authorized to perform this action.\",\"grpc_status\":7}\"\n",
    "#\n",
    "# After I add Pub/Sub Publisher role to this service account, it suceeds.\n",
    "#\n",
    "\n",
    "from google.cloud import pubsub_v1\n",
    "\n",
    "publisher = pubsub_v1.PublisherClient()\n",
    "# The `topic_path` method creates a fully qualified identifier\n",
    "# in the form `projects/{project_id}/topics/{topic_id}`\n",
    "topic_path = publisher.topic_path(project_id, topic_id)\n",
    "\n",
    "for n in range(1, 10):\n",
    "    data = f\"Message number {n}\"\n",
    "    # Data must be a bytestring\n",
    "    data = data.encode(\"utf-8\")\n",
    "    # When you publish a message, the client returns a future.\n",
    "    future = publisher.publish(topic_path, data)\n",
    "    print(future.result())\n",
    "\n",
    "print(f\"Published messages to {topic_path}.\")"
   ]
  },
  {
   "cell_type": "code",
   "execution_count": null,
   "id": "5bc84667-d5cd-49a1-9888-f626c9d2e3d2",
   "metadata": {
    "tags": []
   },
   "outputs": [],
   "source": [
    "#\n",
    "# Receiving messages.\n",
    "# Before running this code, go to GCP console to create a subscription first.\n",
    "# The subscription id of my created subscription is \"pub-sub-subscriprion-test\"\n",
    "#\n",
    "# First time execution get the following error:\n",
    "#   PermissionDenied: 403 User not authorized to perform this action\n",
    "#\n",
    "# After I add Pub/Sub Subscriber role to this service account, it suceeds.\n",
    "#\n",
    "\n",
    "from concurrent.futures import TimeoutError\n",
    "from google.cloud import pubsub_v1\n",
    "\n",
    "# Number of seconds the subscriber should listen for messages\n",
    "timeout = 10.0\n",
    "\n",
    "subscriber = pubsub_v1.SubscriberClient()\n",
    "# The `subscription_path` method creates a fully qualified identifier\n",
    "# in the form `projects/{project_id}/subscriptions/{subscription_id}`\n",
    "subscription_path = subscriber.subscription_path(project_id, subscription_id)\n",
    "\n",
    "def callback(message: pubsub_v1.subscriber.message.Message) -> None:\n",
    "    print(f\"Received {message}.\")\n",
    "    message.ack()\n",
    "\n",
    "streaming_pull_future = subscriber.subscribe(subscription_path, callback=callback)\n",
    "print(f\"Listening for messages on {subscription_path}..\\n\")\n",
    "\n",
    "# Wrap subscriber in a 'with' block to automatically call close() when done.\n",
    "with subscriber:\n",
    "    try:\n",
    "        # When `timeout` is not set, result() will block indefinitely,\n",
    "        # unless an exception is encountered first.\n",
    "        streaming_pull_future.result(timeout=timeout)\n",
    "    except TimeoutError:\n",
    "        streaming_pull_future.cancel()  # Trigger the shutdown.\n",
    "        streaming_pull_future.result()  # Block until the shutdown is complete."
   ]
  },
  {
   "cell_type": "code",
   "execution_count": 7,
   "id": "82fa412c-cfdd-47bc-a34c-41ca30bcf1e3",
   "metadata": {},
   "outputs": [
    {
     "name": "stdout",
     "output_type": "stream",
     "text": [
      "Subscription deleted: projects/organic-byway-253306/subscriptions/pub-sub-subscriprion-test.\n"
     ]
    }
   ],
   "source": [
    "from google.cloud import pubsub_v1\n",
    "\n",
    "subscriber = pubsub_v1.SubscriberClient()\n",
    "subscription_path = subscriber.subscription_path(project_id, subscription_id)\n",
    "\n",
    "# Wrap the subscriber in a 'with' block to automatically call close() to\n",
    "# close the underlying gRPC channel when done.\n",
    "with subscriber:\n",
    "    subscriber.delete_subscription(request={\"subscription\": subscription_path})\n",
    "\n",
    "print(f\"Subscription deleted: {subscription_path}.\")"
   ]
  }
 ],
 "metadata": {
  "kernelspec": {
   "display_name": "Python 3 (ipykernel)",
   "language": "python",
   "name": "python3"
  },
  "language_info": {
   "codemirror_mode": {
    "name": "ipython",
    "version": 3
   },
   "file_extension": ".py",
   "mimetype": "text/x-python",
   "name": "python",
   "nbconvert_exporter": "python",
   "pygments_lexer": "ipython3",
   "version": "3.8.2"
  }
 },
 "nbformat": 4,
 "nbformat_minor": 5
}
